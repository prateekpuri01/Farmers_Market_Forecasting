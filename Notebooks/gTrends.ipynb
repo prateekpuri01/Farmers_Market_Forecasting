{
 "cells": [
  {
   "cell_type": "markdown",
   "metadata": {},
   "source": [
    "# In this notebook, we will grab Google trends data related to how often \"California Wild Fire\" and \"Farmers Markets\" have been googled\n",
    "\n",
    "The idea is that high levels of search activity surrounding these keywords in the days prior to a farmers market event may be predictive of overall sales on the day of the market itself\n"
   ]
  },
  {
   "cell_type": "code",
   "execution_count": 26,
   "metadata": {},
   "outputs": [],
   "source": [
    "\n",
    "from datetime import datetime, timedelta, date, time\n",
    "import pandas as pd\n",
    "import time\n",
    "import numpy as np\n",
    "import os\n",
    "from time import sleep\n",
    "from matplotlib import pyplot as plt\n",
    "\n",
    "from pytrends.request import TrendReq\n",
    "from pytrends.exceptions import ResponseError\n",
    "\n",
    "\n",
    "#functions to fetch google trends data\n",
    "\n",
    "def _fetch_data(trendreq, kw_list, timeframe='today 3-m', cat=0, geo='', gprop='') -> pd.DataFrame:\n",
    "    \n",
    "    \"\"\"Download google trends data using pytrends TrendReq and retries in case of a ResponseError.\"\"\"\n",
    "    attempts, fetched = 0, False\n",
    "    while not fetched:\n",
    "        try:\n",
    "            trendreq.build_payload(kw_list=kw_list, timeframe=timeframe, cat=cat, geo=geo, gprop=gprop)\n",
    "        except ResponseError as err:\n",
    "            print(err)\n",
    "            print(f'Trying again in {60 + 5 * attempts} seconds.')\n",
    "            sleep(60 + 5 * attempts)\n",
    "            attempts += 1\n",
    "            if attempts > 3:\n",
    "                print('Failed after 3 attemps, abort fetching.')\n",
    "                break\n",
    "        else:\n",
    "            fetched = True\n",
    "    return trendreq.interest_over_time()\n",
    "\n",
    "def get_daily_trend(trendreq, keyword:str, start:str, end:str, cat=0, \n",
    "                    geo='', gprop='', delta=269, overlap=100, sleep=0, \n",
    "                    tz=0, verbose=False) ->pd.DataFrame:\n",
    "\n",
    "    \"\"\"Stich and scale consecutive daily trends data between start and end date.\n",
    "    This function will first download piece-wise google trends data and then \n",
    "    scale each piece using the overlapped period. \n",
    "        Parameters\n",
    "        ----------\n",
    "        trendreq : TrendReq\n",
    "            a pytrends TrendReq object\n",
    "        keyword: str\n",
    "            currently only support single keyword, without bracket\n",
    "        start: str\n",
    "            starting date in string format:YYYY-MM-DD (e.g.2017-02-19)\n",
    "        end: str\n",
    "            ending date in string format:YYYY-MM-DD (e.g.2017-02-19)\n",
    "        cat, geo, gprop, sleep: \n",
    "            same as defined in pytrends\n",
    "        delta: int\n",
    "            The length(days) of each timeframe fragment for fetching google trends data, \n",
    "            need to be <269 in order to obtain daily data.\n",
    "        overlap: int\n",
    "            The length(days) of the overlap period used for scaling/normalization\n",
    "        tz: int\n",
    "            The timezone shift in minute relative to the UTC+0 (google trends default).\n",
    "            For example, correcting for UTC+8 is 480, and UTC-6 is -360 \n",
    "    \"\"\"\n",
    "    \n",
    "    start_d = datetime.strptime(start, '%Y-%m-%d')\n",
    "    init_end_d = end_d = datetime.strptime(end, '%Y-%m-%d')\n",
    "    init_end_d.replace(hour=23, minute=59, second=59)    \n",
    "    delta = timedelta(days=delta)\n",
    "    overlap = timedelta(days=overlap)\n",
    "\n",
    "    itr_d = end_d - delta\n",
    "    overlap_start = None\n",
    "\n",
    "    df = pd.DataFrame()\n",
    "    ol = pd.DataFrame()\n",
    "    \n",
    "    while end_d > start_d:\n",
    "        tf = itr_d.strftime('%Y-%m-%d')+' '+end_d.strftime('%Y-%m-%d')\n",
    "        if verbose: print('Fetching \\''+keyword+'\\' for period:'+tf)\n",
    "        temp = _fetch_data(trendreq, [keyword], timeframe=tf, cat=cat, geo=geo, gprop=gprop)\n",
    "        temp.drop(columns=['isPartial'], inplace=True)\n",
    "        temp.columns.values[0] = tf\n",
    "        ol_temp = temp.copy()\n",
    "        ol_temp.iloc[:,:] = None\n",
    "        if overlap_start is not None:  # not first iteration\n",
    "            if verbose: print('Normalize by overlapping period:'+overlap_start.strftime('%Y-%m-%d'), end_d.strftime('%Y-%m-%d'))\n",
    "            #normalize using the maximum value of the overlapped period\n",
    "            y1 = temp.loc[overlap_start:end_d].iloc[:,0].values.max()\n",
    "            y2 = df.loc[overlap_start:end_d].iloc[:,-1].values.max()\n",
    "            coef = y2/y1\n",
    "            temp = temp * coef\n",
    "            ol_temp.loc[overlap_start:end_d, :] = 1 \n",
    "\n",
    "        df = pd.concat([df,temp], axis=1)\n",
    "        ol = pd.concat([ol, ol_temp], axis=1)\n",
    "        # shift the timeframe for next iteration\n",
    "        overlap_start = itr_d\n",
    "        end_d -= (delta-overlap)\n",
    "        itr_d -= (delta-overlap)\n",
    "        # in case of short query interval getting banned by server\n",
    "        time.sleep(sleep)\n",
    "    \n",
    "    df.sort_index(inplace=True)\n",
    "    ol.sort_index(inplace=True)\n",
    "    #The daily trend data is missing the most recent 3-days data, need to complete with hourly data\n",
    "    if df.index.max() < init_end_d : \n",
    "        tf = 'now 7-d'\n",
    "        hourly = _fetch_data(trendreq, [keyword], timeframe=tf, cat=cat, geo=geo, gprop=gprop)\n",
    "        hourly.drop(columns=['isPartial'], inplace=True)\n",
    "        \n",
    "        #convert hourly data to daily data\n",
    "        daily = hourly.groupby(hourly.index.date).sum()\n",
    "        \n",
    "        #check whether the first day data is complete (i.e. has 24 hours)\n",
    "        daily['hours'] = hourly.groupby(hourly.index.date).count()\n",
    "        if daily.iloc[0].loc['hours'] != 24: daily.drop(daily.index[0], inplace=True)\n",
    "        daily.drop(columns='hours', inplace=True)\n",
    "        \n",
    "        daily.set_index(pd.DatetimeIndex(daily.index), inplace=True)\n",
    "        daily.columns = [tf]\n",
    "        \n",
    "        ol_temp = daily.copy()\n",
    "        ol_temp.iloc[:,:] = None\n",
    "        # find the overlapping date\n",
    "        intersect = df.index.intersection(daily.index)\n",
    "        if verbose: print('Normalize by overlapping period:'+(intersect.min().strftime('%Y-%m-%d'))+' '+(intersect.max().strftime('%Y-%m-%d')))\n",
    "        # scaling use the overlapped today-4 to today-7 data\n",
    "        coef = df.loc[intersect].iloc[:,0].max() / daily.loc[intersect].iloc[:,0].max()\n",
    "        daily = (daily*coef).round(decimals=0)\n",
    "        ol_temp.loc[intersect,:] = 1\n",
    "        \n",
    "        df = pd.concat([daily, df], axis=1)\n",
    "        ol = pd.concat([ol_temp, ol], axis=1)\n",
    "\n",
    "    # taking averages for overlapped period\n",
    "    df = df.mean(axis=1)\n",
    "    ol = ol.max(axis=1)\n",
    "    # merge the two dataframe (trend data and overlap flag)\n",
    "    df = pd.concat([df,ol], axis=1)\n",
    "    df.columns = [keyword,'overlap']\n",
    "    # Correct the timezone difference\n",
    "    df.index = df.index + timedelta(minutes=tz)\n",
    "    df = df[start_d:init_end_d]\n",
    "    # re-normalized to the overall maximum value to have max =100\n",
    "    df[keyword] = (100*df[keyword]/df[keyword].max()).round(decimals=0)\n",
    "    \n",
    "    return df"
   ]
  },
  {
   "cell_type": "markdown",
   "metadata": {},
   "source": [
    "# Initialize PyTrends object"
   ]
  },
  {
   "cell_type": "code",
   "execution_count": 27,
   "metadata": {},
   "outputs": [],
   "source": [
    "pytrend_object=TrendReq()"
   ]
  },
  {
   "cell_type": "markdown",
   "metadata": {},
   "source": [
    "# Extract 'Farmers Market' search activity"
   ]
  },
  {
   "cell_type": "code",
   "execution_count": 28,
   "metadata": {},
   "outputs": [],
   "source": [
    "gtrends_fm_data=get_daily_trend(pytrend_object, 'farmers market', '2014-01-01', datetime.now().strftime(\"%Y-%m-%d\"), cat=0, \\\n",
    "                    geo='US-CA-803', gprop='', delta=269, overlap=100, sleep=0, \\\n",
    "                    tz=0, verbose=False)"
   ]
  },
  {
   "cell_type": "markdown",
   "metadata": {},
   "source": [
    "# Extract 'Los Angeles Wildfire' search activity"
   ]
  },
  {
   "cell_type": "code",
   "execution_count": 29,
   "metadata": {},
   "outputs": [],
   "source": [
    "gtrends_fire_data=get_daily_trend(pytrend_object, 'Los Angeles Wildfire', '2014-01-01', datetime.now().strftime(\"%Y-%m-%d\"), cat=0, \\\n",
    "                    geo='US-CA-803', gprop='', delta=269, overlap=100, sleep=0, \\\n",
    "                    tz=0, verbose=False)"
   ]
  },
  {
   "cell_type": "code",
   "execution_count": 30,
   "metadata": {},
   "outputs": [
    {
     "data": {
      "text/plain": [
       "[<matplotlib.lines.Line2D at 0x1a5c507abc8>]"
      ]
     },
     "execution_count": 30,
     "metadata": {},
     "output_type": "execute_result"
    },
    {
     "data": {
      "image/png": "[encoded data removed]",
      "text/plain": [
       "<Figure size 432x288 with 1 Axes>"
      ]
     },
     "metadata": {
      "needs_background": "light"
     },
     "output_type": "display_data"
    }
   ],
   "source": [
    "#plot farmers market daily searchers \n",
    "plt.figure()\n",
    "plt.plot(gtrends_fm_data['farmers market'])"
   ]
  },
  {
   "cell_type": "code",
   "execution_count": 31,
   "metadata": {},
   "outputs": [
    {
     "data": {
      "text/plain": [
       "[<matplotlib.lines.Line2D at 0x1a5c51783c8>]"
      ]
     },
     "execution_count": 31,
     "metadata": {},
     "output_type": "execute_result"
    },
    {
     "data": {
      "image/png": "[encoded data removed]",
      "text/plain": [
       "<Figure size 432x288 with 1 Axes>"
      ]
     },
     "metadata": {
      "needs_background": "light"
     },
     "output_type": "display_data"
    }
   ],
   "source": [
    "plt.figure()\n",
    "plt.plot(gtrends_fire_data['Los Angeles Wildfire'])"
   ]
  },
  {
   "cell_type": "code",
   "execution_count": 32,
   "metadata": {},
   "outputs": [],
   "source": [
    "#combine data into a single data frame\n",
    "joined_gtrends=gtrends_fm_data.join(gtrends_fire_data,lsuffix='date',rsuffix='date')[['farmers market','Los Angeles Wildfire']].reset_index()"
   ]
  },
  {
   "cell_type": "code",
   "execution_count": 33,
   "metadata": {},
   "outputs": [],
   "source": [
    "#now save file\n",
    "os.chdir('C:\\\\Users\\\\teek2\\\\Documents\\\\Farmers Market Forecast\\\\Feature_Data_Files')\n",
    "joined_gtrends.to_pickle('gTrends.pkl')"
   ]
  }
 ],
 "metadata": {
  "kernelspec": {
   "display_name": "Python 3",
   "language": "python",
   "name": "python3"
  },
  "language_info": {
   "codemirror_mode": {
    "name": "ipython",
    "version": 3
   },
   "file_extension": ".py",
   "mimetype": "text/x-python",
   "name": "python",
   "nbconvert_exporter": "python",
   "pygments_lexer": "ipython3",
   "version": "3.7.4"
  }
 },
 "nbformat": 4,
 "nbformat_minor": 2
}
