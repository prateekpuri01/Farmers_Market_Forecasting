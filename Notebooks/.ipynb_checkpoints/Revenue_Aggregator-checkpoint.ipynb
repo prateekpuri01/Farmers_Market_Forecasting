{
 "cells": [
  {
   "cell_type": "code",
   "execution_count": 1,
   "metadata": {},
   "outputs": [],
   "source": [
    "from urllib.request import urlopen\n",
    "import datetime\n",
    "from datetime import timedelta\n",
    "import csv\n",
    "import pandas as pd\n",
    "from scipy import signal\n",
    "from matplotlib import pyplot as plt\n",
    "import numpy as np\n",
    "import holidays\n",
    "import os\n",
    "from datetime import timedelta\n",
    "\n",
    "\n",
    "\n",
    "#function that receives market sales for each market date and calculates the sales average of previous markets\n",
    "\n",
    "#inputs: input list-->market sales (ordered in ascending time)\n",
    "            #moving average: number of market sales prior to a given market date to average\n",
    "    \n",
    "            #output vector that consists of the average of (#moving_average) number of market dates prior to a given market date\n",
    "def return_prev_avg(input_list,moving_average):\n",
    "    hit=0\n",
    "    previous_markets=[]\n",
    "    for i,item in enumerate(input_list):\n",
    "        if i>=moving_average:\n",
    "            previous_markets.append(np.mean(input_list[i-moving_average:i]))\n",
    "\n",
    "        else:\n",
    "            previous_markets.append(item)\n",
    "    return previous_markets"
   ]
  },
  {
   "cell_type": "code",
   "execution_count": 2,
   "metadata": {},
   "outputs": [],
   "source": [
    "#read revenue files for each agricultural market vendor and calculate previous sales, market name, other propoerties, etc.\n",
    "\n",
    "os.chdir('C:\\\\Users\\\\teek2\\\\Documents\\\\Revenue_Data_Files')\n",
    "\n",
    "AG_markets=['SAT','SUN','WED','PICO']\n",
    "AG_files=[\"Sat_AG.pkl\",\"Sun_AG.pkl\",\"Wed_AG.pkl\",\"Pico_AG.pkl\"]\n",
    "AG_dfs=[]\n",
    "\n",
    "for i,file in enumerate(AG_files):\n",
    "    dummy_df=pd.read_pickle(file)\n",
    "    dummy_df['Previous Markets']=return_prev_avg(list(dummy_df[\"Revenue\"]),4)\n",
    "    dummy_df['Market Name']=AG_markets[i]\n",
    "    dummy_df['Market Product']='AG'\n",
    "    dummy_df['Num Vendors']=1\n",
    "    AG_dfs.append(dummy_df)\n",
    "    \n",
    "total_AG=pd.concat(AG_dfs)"
   ]
  },
  {
   "cell_type": "code",
   "execution_count": 3,
   "metadata": {},
   "outputs": [],
   "source": [
    "#do the same for other vendors\n",
    "\n",
    "CP_markets=['SUN','PICO']\n",
    "CP_files=[\"Sun_CP.pkl\",\"Pico_CP.pkl\"]\n",
    "vendors=[['Hot Food','Baked Goods','Coffee','Retail','Pre-packaged Food'],['Hot Food','Baked Goods','Coffee','Pre-packaged Food']]"
   ]
  },
  {
   "cell_type": "code",
   "execution_count": 4,
   "metadata": {},
   "outputs": [],
   "source": [
    "cp_df=[]\n",
    "\n",
    "for i,file in enumerate(CP_files):\n",
    "    cp_temp_df=pd.read_pickle(file)\n",
    "    for current_vendor in vendors[i]:\n",
    "        dummy_df=pd.DataFrame()\n",
    "        \n",
    "        if CP_markets[i]=='SUN':\n",
    "            dummy_df['Date']=cp_temp_df['Date'].apply(lambda x: x.date())\n",
    "        else:\n",
    "            dummy_df['Date']=cp_temp_df['Date']\n",
    "            \n",
    "        dummy_df['Revenue']=cp_temp_df[current_vendor+\"_Average\"]\n",
    "        dummy_df['Previous Markets']=return_prev_avg(list(cp_temp_df[current_vendor+\"_Average\"]),4)\n",
    "        dummy_df['Market Product']=current_vendor\n",
    "        dummy_df['Market Name']=CP_markets[i]\n",
    "        dummy_df['Num Vendors']=cp_temp_df[current_vendor+\"_Count\"]\n",
    "        cp_df.append(dummy_df)\n",
    "        \n",
    "total_cf=pd.concat(cp_df)\n",
    "   "
   ]
  },
  {
   "cell_type": "code",
   "execution_count": 5,
   "metadata": {
    "scrolled": true
   },
   "outputs": [
    {
     "name": "stderr",
     "output_type": "stream",
     "text": [
      "C:\\ProgramData\\Anaconda3\\lib\\site-packages\\ipykernel_launcher.py:1: FutureWarning: Sorting because non-concatenation axis is not aligned. A future version\n",
      "of pandas will change to not sort by default.\n",
      "\n",
      "To accept the future behavior, pass 'sort=False'.\n",
      "\n",
      "To retain the current behavior and silence the warning, pass 'sort=True'.\n",
      "\n",
      "  \"\"\"Entry point for launching an IPython kernel.\n"
     ]
    }
   ],
   "source": [
    "total_rev_df=pd.concat([total_cf,total_AG])"
   ]
  },
  {
   "cell_type": "code",
   "execution_count": 6,
   "metadata": {},
   "outputs": [],
   "source": [
    "#save output file\n",
    "\n",
    "total_rev_df.to_pickle('Market_revenues.pkl')"
   ]
  }
 ],
 "metadata": {
  "kernelspec": {
   "display_name": "Python 3",
   "language": "python",
   "name": "python3"
  },
  "language_info": {
   "codemirror_mode": {
    "name": "ipython",
    "version": 3
   },
   "file_extension": ".py",
   "mimetype": "text/x-python",
   "name": "python",
   "nbconvert_exporter": "python",
   "pygments_lexer": "ipython3",
   "version": "3.7.4"
  }
 },
 "nbformat": 4,
 "nbformat_minor": 2
}
