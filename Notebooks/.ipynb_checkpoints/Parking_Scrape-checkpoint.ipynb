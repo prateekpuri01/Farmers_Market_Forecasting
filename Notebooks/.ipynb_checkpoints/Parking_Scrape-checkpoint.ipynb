{
 "cells": [
  {
   "cell_type": "code",
   "execution_count": 1,
   "metadata": {},
   "outputs": [],
   "source": [
    "import requests\n",
    "import pickle\n",
    "import datetime"
   ]
  },
  {
   "cell_type": "markdown",
   "metadata": {},
   "source": [
    "# This script interacts with the Santa Monica Open Data API to extract daily parking counts\n",
    "\n",
    "The idea is that some version of this script can be run daily to generated the needed parking lot features for upcoming markets"
   ]
  },
  {
   "cell_type": "code",
   "execution_count": 11,
   "metadata": {},
   "outputs": [],
   "source": [
    "#!/usr/bin/env python\n",
    "\n",
    "# make sure to install these packages before running:\n",
    "# pip install pandas\n",
    "# pip install sodapy\n",
    "\n",
    "import pandas as pd\n",
    "from sodapy import Socrata\n",
    "\n",
    "# Unauthenticated client only works with public data sets. Note 'None'\n",
    "# in place of application token, and no username or password:\n",
    "client = Socrata(\"data.smgov.net\", 'gh0PGNOdsbpE9OEaUFU2DW2Y2')\n",
    "\n",
    "# Example authenticated client (needed for non-public datasets):\n",
    "# client = Socrata(data.smgov.net,\n",
    "#                  MyAppToken,\n",
    "#                  userame=\"user@example.com\",\n",
    "#                  password=\"AFakePassword\")\n",
    "\n",
    "# First 2000 results, returned as JSON from API / converted to Python list of\n",
    "# dictionaries by sodapy.\n",
    "results = client.get(\"ng8m-khuz\", limit=50000)\n",
    "\n",
    "# Convert to pandas DataFrame"
   ]
  },
  {
   "cell_type": "markdown",
   "metadata": {},
   "source": [
    "# Store 50,000 most recent parking lot counts into pandas DF\n",
    "\n",
    "Here 50,000 is chosen to ensure counts from at least the least 24 hours are included in the DF"
   ]
  },
  {
   "cell_type": "code",
   "execution_count": 30,
   "metadata": {},
   "outputs": [],
   "source": [
    "results_df = pd.DataFrame.from_records(results)\n",
    "results_df['date_time']=pd.to_datetime(results_df['date_time'])\n",
    "results_df['date']=results_df['date_time'].apply(lambda x: x.date())"
   ]
  },
  {
   "cell_type": "markdown",
   "metadata": {},
   "source": [
    "# Filter data by lot number"
   ]
  },
  {
   "cell_type": "code",
   "execution_count": 43,
   "metadata": {},
   "outputs": [],
   "source": [
    "results_df.sort_values(by='date_time')\n",
    "lots_to_keep=['Structure 5','Structure 1','Lot 4 South','Structure 2','Structure 3','Structure 6','Structure 8','Structure 9','Structure 7']\n",
    "results_df=results_df[results_df['lot_name'].apply(lambda x: x in lots_to_keep)]\n",
    "results_df['available_spaces']=results_df['available_spaces'].apply(lambda x: int(x))"
   ]
  },
  {
   "cell_type": "markdown",
   "metadata": {},
   "source": [
    "# Calculate average occupany during peak hours"
   ]
  },
  {
   "cell_type": "code",
   "execution_count": 54,
   "metadata": {},
   "outputs": [],
   "source": [
    "#look at the parking in the peak hours\n",
    "peak_parking_av=results_df[results_df['date_time'].apply(lambda x: True if x.hour>=9 and x.hour<=20 else False)].groupby(by=['date']).mean()['available_spaces'].reset_index()"
   ]
  },
  {
   "cell_type": "markdown",
   "metadata": {},
   "source": [
    "# Normalize by overnight counts"
   ]
  },
  {
   "cell_type": "code",
   "execution_count": 58,
   "metadata": {},
   "outputs": [],
   "source": [
    "#look at the parking in the morning hours\n",
    "morning_parking_av=results_df[results_df['date_time'].apply(lambda x: True if x.hour>=2 and x.hour<9 else False)].groupby(by=['date']).mean()['available_spaces'].reset_index()\n",
    "morning_parking_av=morning_parking_av.rename(columns={\"date\": \"date\", \"available_spaces\": \"TAKEN\"})"
   ]
  },
  {
   "cell_type": "code",
   "execution_count": 62,
   "metadata": {},
   "outputs": [],
   "source": [
    "joined_parking_df=peak_parking_av.set_index('date').join(morning_parking_av.set_index('date'),lsuffix='date',rsuffix='date').reset_index().sort_values(by='date')                                                                                                                              "
   ]
  },
  {
   "cell_type": "code",
   "execution_count": 63,
   "metadata": {},
   "outputs": [],
   "source": [
    "joined_parking_df['NET PEAK SPOTS']=joined_parking_df['available_spaces']-joined_parking_df['TAKEN']\n",
    "joined_parking_df['NET PEAK SPOTS']=joined_parking_df['NET PEAK SPOTS']+245\n",
    "joined_parking_df=joined_parking_df[['date','NET PEAK SPOTS']].sort_values(by=['date'])"
   ]
  },
  {
   "cell_type": "markdown",
   "metadata": {},
   "source": [
    "# Save output"
   ]
  },
  {
   "cell_type": "code",
   "execution_count": 66,
   "metadata": {},
   "outputs": [],
   "source": [
    "os.chdir('C:\\\\Users\\\\teek2\\\\Documents\\\\Farmers Market Forecast\\\\Feature_Data_Files')\n",
    "joined_parking_df[['date','NET PEAK SPOTS']].to_pickle('scraped_parking_data.pkl')"
   ]
  }
 ],
 "metadata": {
  "kernelspec": {
   "display_name": "Python 3",
   "language": "python",
   "name": "python3"
  },
  "language_info": {
   "codemirror_mode": {
    "name": "ipython",
    "version": 3
   },
   "file_extension": ".py",
   "mimetype": "text/x-python",
   "name": "python",
   "nbconvert_exporter": "python",
   "pygments_lexer": "ipython3",
   "version": "3.7.4"
  }
 },
 "nbformat": 4,
 "nbformat_minor": 2
}
