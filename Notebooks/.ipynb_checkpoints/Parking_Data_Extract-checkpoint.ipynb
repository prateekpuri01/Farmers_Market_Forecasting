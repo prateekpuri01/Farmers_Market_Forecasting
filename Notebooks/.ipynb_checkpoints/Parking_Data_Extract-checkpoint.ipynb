{
 "cells": [
  {
   "cell_type": "code",
   "execution_count": 1,
   "metadata": {},
   "outputs": [],
   "source": [
    "#the file will load the parking data obtained from the Santa Monica website into an SQL file. Data will then be sorted and\n",
    "#saved\n",
    "import sqlite3\n",
    "import os\n",
    "import csv\n",
    "import datetime\n",
    "from matplotlib import pyplot as plt\n",
    "import pandas as pd\n",
    "import numpy as np\n",
    "import pickle"
   ]
  },
  {
   "cell_type": "code",
   "execution_count": 2,
   "metadata": {},
   "outputs": [],
   "source": [
    "os.chdir('C:\\\\Users\\\\teek2\\\\Documents\\\\Parking_Data_Files')\n",
    "\n",
    "connection = sqlite3.connect(\"SM_Main_Market.db\")\n",
    "cursor = connection.cursor()\n",
    "\n",
    "try:\n",
    "    cursor.execute(\"\"\"DROP TABLE SM_Market_Data;\"\"\")\n",
    "except:\n",
    "    pass\n",
    "     \n",
    "\n",
    "\"\"\"Here we create the master SQL table that we will store all relevant\n",
    "serving statistics in\"\"\"\n",
    "\n",
    "sql_command = \"\"\"\n",
    "CREATE TABLE SM_Market_Data ( \n",
    "DATE CHAR(4), \n",
    "LOT_NAME CHAR(4),\n",
    "ADDRESS CHAR(4),\n",
    "LATITUDE FLOAT, \n",
    "LONGITUDE FLOAT, \n",
    "AVAILABLE INTEGER,\n",
    "YEAR INTEGER,\n",
    "DAY INTEGER,\n",
    "MONTH INTEGER,\n",
    "WEEKDAY INTEGER,\n",
    "YMD CHAR(4));\"\"\"\n",
    "\n",
    "cursor.execute(sql_command)\n",
    "dataFiles = []\n",
    "dataFolder='C:\\\\Users\\\\teek2\\\\Documents\\\\Farmers Market Forecast'\n",
    "\n",
    "firstline=False\n",
    "\n",
    "with open('Parking_Lot_Counts.csv') as csv_file:\n",
    "    csv_reader=csv.reader(csv_file,delimiter=',')\n",
    "    for row in csv_reader:\n",
    "        \n",
    "        if firstline==False:\n",
    "            firstline=True\n",
    "            continue\n",
    "        else:\n",
    "            try:\n",
    "                trial=row\n",
    "                date=row[0]\n",
    "                date_instance=datetime.datetime.strptime(date, '%m/%d/%Y %I:%M:%S %p')\n",
    "                \n",
    "                name=row[1]\n",
    "                address=row[3]\n",
    "                longitude=float(row[5])\n",
    "                latitude=float(row[6])\n",
    "                available=int(row[7])\n",
    "                year=date_instance.year\n",
    "                month=date_instance.month\n",
    "                day_of_month=date_instance.day\n",
    "                day=date_instance.weekday()\n",
    "                YMD=str(day_of_month)+\"-\"+str(month)+'-'+str(year)\n",
    "                \n",
    "            except ValueError:\n",
    "                continue\n",
    "                \n",
    "        cursor.execute(\"\"\" INSERT INTO SM_Market_Data \\\n",
    "                        (DATE, LOT_NAME, ADDRESS, LATITUDE, LONGITUDE, AVAILABLE, YEAR, DAY, MONTH, WEEKDAY, YMD) \\\n",
    "                                VALUES(?,?,?,?,?,?,?,?,?,?,?)\"\"\" , \\\n",
    "                                (date,name,address,longitude,latitude,available,year,day_of_month,month,day,YMD))\n",
    "\n",
    "    connection.commit()"
   ]
  },
  {
   "cell_type": "code",
   "execution_count": 2,
   "metadata": {},
   "outputs": [],
   "source": [
    "conn = sqlite3.connect(\"SM_Main_Market.db\")\n",
    "\n",
    "SQL_Query = pd.read_sql_query(\n",
    "'''SELECT *\n",
    "FROM SM_Market_Data''', conn)\n",
    "\n",
    "df_all_SM = pd.DataFrame(SQL_Query, columns=['DATE', 'LOT_NAME', 'ADDRESS', 'LATITUDE', 'LONGITUDE', 'AVAILABLE', 'YEAR', 'DAY', 'MONTH', 'WEEKDAY', 'YMD'])"
   ]
  },
  {
   "cell_type": "code",
   "execution_count": 3,
   "metadata": {},
   "outputs": [],
   "source": [
    "df_all_SM['datetime']=df_all_SM['DATE'].apply(lambda x: datetime.datetime.strptime(x,'%m/%d/%Y %I:%M:%S %p'))"
   ]
  },
  {
   "cell_type": "code",
   "execution_count": 53,
   "metadata": {},
   "outputs": [
    {
     "name": "stderr",
     "output_type": "stream",
     "text": [
      "C:\\ProgramData\\Anaconda3\\lib\\site-packages\\ipykernel_launcher.py:16: SettingWithCopyWarning: \n",
      "A value is trying to be set on a copy of a slice from a DataFrame.\n",
      "Try using .loc[row_indexer,col_indexer] = value instead\n",
      "\n",
      "See the caveats in the documentation: http://pandas.pydata.org/pandas-docs/stable/user_guide/indexing.html#returning-a-view-versus-a-copy\n",
      "  app.launch_new_instance()\n"
     ]
    }
   ],
   "source": [
    "#select which public lots I want to monitor\n",
    "#thesea are the ones in the downtown area\n",
    "\n",
    "lots_to_keep=['Structure 5','Structure 1','Lot 4 South','Structure 2','Structure 3','Structure 6','Structure 8','Structure 9','Structure 7']\n",
    "daily_parking_data=df_all_SM[df_all_SM['LOT_NAME'].apply(lambda x: x in lots_to_keep)]\n",
    "\n",
    "\n",
    "#function that take a datestring and converts it to a datetime.date object\n",
    "\n",
    "\n",
    "def YMD_to_dt(timestamp):\n",
    "    time_parse=timestamp.split('-')\n",
    "    return datetime.date(int(time_parse[-1]),int(time_parse[1]),int(time_parse[0]))\n",
    "\n",
    "\n",
    "daily_parking_data['Datetime']=pd.to_datetime(daily_parking_data['YMD'].apply(lambda x: YMD_to_dt(x)))\n",
    "\n",
    "#summed_data=daily_parking_data.groupby(by=['YMD']).sum()['AVAILABLE'].reset_index()"
   ]
  },
  {
   "cell_type": "code",
   "execution_count": 54,
   "metadata": {},
   "outputs": [],
   "source": [
    "#look at the parking in the peak hours\n",
    "peak_parking_av=daily_parking_data[daily_parking_data['datetime'].apply(lambda x: True if x.hour>=9 and x.hour<=20 else False)].groupby(by=['YMD']).mean()['AVAILABLE'].reset_index()"
   ]
  },
  {
   "cell_type": "code",
   "execution_count": 55,
   "metadata": {},
   "outputs": [],
   "source": [
    "#look at morning hour parking\n",
    "morning_parking_av=daily_parking_data[daily_parking_data['datetime'].apply(lambda x: True if x.hour>=2 and x.hour<=9 else False)].groupby(by=['YMD']).mean()['AVAILABLE'].reset_index()"
   ]
  },
  {
   "cell_type": "code",
   "execution_count": 56,
   "metadata": {},
   "outputs": [],
   "source": [
    "morning_parking_av=morning_parking_av.rename(columns={\"YMD\": \"YMD\", \"AVAILABLE\": \"TAKEN\"})"
   ]
  },
  {
   "cell_type": "code",
   "execution_count": 57,
   "metadata": {},
   "outputs": [],
   "source": [
    "joined_parking_df=peak_parking_av.set_index('YMD').join(morning_parking_av.set_index('YMD'),lsuffix='YMD',rsuffix='YMD').reset_index().sort_values(by='YMD')"
   ]
  },
  {
   "cell_type": "code",
   "execution_count": 59,
   "metadata": {},
   "outputs": [],
   "source": [
    "#hard-coding the baseline that is subtracted off so I can reuse value in other notebooks as data input changes\n",
    "\n",
    "joined_parking_df['NET PEAK SPOTS']=joined_parking_df['AVAILABLE']-joined_parking_df['TAKEN']\n",
    "joined_parking_df['NET PEAK SPOTS']=joined_parking_df['NET PEAK SPOTS']+245\n",
    "joined_parking_df=joined_parking_df[['YMD','NET PEAK SPOTS']].sort_values(by=['YMD'])"
   ]
  },
  {
   "cell_type": "code",
   "execution_count": 60,
   "metadata": {},
   "outputs": [
    {
     "data": {
      "text/plain": [
       "[<matplotlib.lines.Line2D at 0x26f9106a3c8>]"
      ]
     },
     "execution_count": 60,
     "metadata": {},
     "output_type": "execute_result"
    },
    {
     "data": {
      "image/png": "[encoded data removed]",
      "text/plain": [
       "<Figure size 432x288 with 1 Axes>"
      ]
     },
     "metadata": {
      "needs_background": "light"
     },
     "output_type": "display_data"
    }
   ],
   "source": [
    "plt.figure()\n",
    "plt.plot(joined_parking_df['NET PEAK SPOTS'])"
   ]
  },
  {
   "cell_type": "code",
   "execution_count": 49,
   "metadata": {},
   "outputs": [],
   "source": [
    "joined_parking_df['Datetime']=joined_parking_df['YMD'].apply(lambda x: YMD_to_dt(x))"
   ]
  },
  {
   "cell_type": "code",
   "execution_count": 50,
   "metadata": {},
   "outputs": [],
   "source": [
    "#export data file with daily parking info\n",
    "os.chdir('C:\\\\Users\\\\teek2\\\\Documents\\\\Farmers Market Forecast\\\\Feature_Data_Files')\n",
    "joined_parking_df[['Datetime','NET PEAK SPOTS']].to_pickle('Daily_SM_Parking.pkl')"
   ]
  }
 ],
 "metadata": {
  "kernelspec": {
   "display_name": "Python 3",
   "language": "python",
   "name": "python3"
  },
  "language_info": {
   "codemirror_mode": {
    "name": "ipython",
    "version": 3
   },
   "file_extension": ".py",
   "mimetype": "text/x-python",
   "name": "python",
   "nbconvert_exporter": "python",
   "pygments_lexer": "ipython3",
   "version": "3.7.4"
  }
 },
 "nbformat": 4,
 "nbformat_minor": 2
}
