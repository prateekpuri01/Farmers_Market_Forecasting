{
 "cells": [
  {
   "cell_type": "code",
   "execution_count": 75,
   "metadata": {},
   "outputs": [],
   "source": [
    "import requests\n",
    "import pickle\n",
    "import datetime\n",
    "import os"
   ]
  },
  {
   "cell_type": "code",
   "execution_count": 76,
   "metadata": {},
   "outputs": [],
   "source": [
    "# importing the requests library\n",
    "# api-endpoint \n",
    "URL = 'https://api.weatherbit.io/v2.0/forecast/daily?city=SantaMonica,CA&key=5e62542e0346425ca4912509f4a74c8d'\n",
    "  \n",
    "r = requests.get(url = URL) \n",
    "  \n",
    "# extracting data in json format \n",
    "data = r.json() "
   ]
  },
  {
   "cell_type": "code",
   "execution_count": 77,
   "metadata": {},
   "outputs": [],
   "source": [
    "#function that take a datestirng and converts it to datetime.date object\n",
    "\n",
    "def string_to_date(date_string):\n",
    "    split_string=date_string.split('-')\n",
    "    year=int(split_string[0])\n",
    "    month=int(split_string[1])\n",
    "    day=int(split_string[2])\n",
    "    return datetime.date(year,month,day)"
   ]
  },
  {
   "cell_type": "code",
   "execution_count": 78,
   "metadata": {},
   "outputs": [],
   "source": [
    "temp_dict={}\n",
    "rain_dict={}\n",
    "wind_dict={}\n",
    "\n",
    "for item in data['data']:\n",
    "    temp_dict[string_to_date(item['datetime'])]=item['temp']\n",
    "    rain_dict[string_to_date(item['datetime'])]=item['precip']/3\n",
    "    wind_dict[string_to_date(item['datetime'])]=item['wind_spd']\n",
    "    "
   ]
  },
  {
   "cell_type": "code",
   "execution_count": 79,
   "metadata": {},
   "outputs": [],
   "source": [
    "os.chdir('C:\\\\Users\\\\teek2\\\\Documents\\\\Farmers Market Forecast\\\\Feature_Data_Files')\n",
    "\n",
    "with open('weather_scrape.pkl', 'wb') as handle:\n",
    "    pickle.dump([temp_dict,rain_dict,wind_dict], handle, protocol=2)"
   ]
  }
 ],
 "metadata": {
  "kernelspec": {
   "display_name": "Python 3",
   "language": "python",
   "name": "python3"
  },
  "language_info": {
   "codemirror_mode": {
    "name": "ipython",
    "version": 3
   },
   "file_extension": ".py",
   "mimetype": "text/x-python",
   "name": "python",
   "nbconvert_exporter": "python",
   "pygments_lexer": "ipython3",
   "version": "3.7.4"
  }
 },
 "nbformat": 4,
 "nbformat_minor": 2
}
