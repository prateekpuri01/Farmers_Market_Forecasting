{
 "cells": [
  {
   "cell_type": "code",
   "execution_count": 34,
   "metadata": {},
   "outputs": [],
   "source": [
    "from urllib.request import urlopen\n",
    "import datetime\n",
    "from datetime import timedelta\n",
    "import csv\n",
    "import pandas as pd\n",
    "from scipy import signal\n",
    "from matplotlib import pyplot as plt\n",
    "import numpy as np\n",
    "import holidays\n",
    "from datetime import timedelta\n",
    "import os"
   ]
  },
  {
   "cell_type": "code",
   "execution_count": 35,
   "metadata": {},
   "outputs": [],
   "source": [
    "#upload parking data file and compute average parking occupancy for two days prior to a given date\n",
    "#This will give a sense of how active the downtown areas of SM were to foot traffic in a window prior to markets\n",
    "\n",
    "\n",
    "os.chdir('C:\\\\Users\\\\teek2\\\\Documents\\\\Farmers Market Forecast\\\\Feature_Data_Files')\n",
    "parking_data=pd.read_pickle('Daily_SM_Parking.pkl').sort_values(by=['Datetime'])\n",
    "column_to_av='NET PEAK SPOTS'\n",
    "predictions=list(parking_data[column_to_av])\n",
    "\n",
    "\n",
    "#This loops constructs the average parking occupancy for the two days prior to a given date \n",
    "#(does this for last several years), first two days in vector are left alone\n",
    "previous_parking=[]\n",
    "moving_av=2\n",
    "\n",
    "for i,item in enumerate(predictions):\n",
    "    if i>=moving_av:\n",
    "        previous_parking.append(np.mean(predictions[i-moving_av:i]))\n",
    "        \n",
    "    else:\n",
    "        previous_parking.append(item)\n",
    "        \n",
    "parking_data['Previous Parking']=np.array(previous_parking)\n",
    "parking_data=parking_data[['Datetime','Previous Parking']].sort_values(by='Datetime')"
   ]
  },
  {
   "cell_type": "code",
   "execution_count": 36,
   "metadata": {},
   "outputs": [],
   "source": [
    "#now extract google trends information and do a 5 day average\n",
    "\n",
    "gTrends_df=pd.read_pickle('gTrends.pkl').sort_values(by='date')\n",
    "\n",
    "\n",
    "fm_list=list(gTrends_df['farmers market'])\n",
    "lawf_list=list(gTrends_df['Los Angeles Wildfire'])\n",
    "\n",
    "previous_fire=[]\n",
    "previous_fm=[]\n",
    "\n",
    "moving_av=5\n",
    "\n",
    "for i,item in enumerate(fm_list):\n",
    "    if i>=moving_av:\n",
    "        previous_fire.append(np.mean(lawf_list[i-moving_av:i]))\n",
    "        previous_fm.append(np.mean(fm_list[i-moving_av:i]))\n",
    "        \n",
    "    else:\n",
    "        previous_fire.append(lawf_list[i])\n",
    "        previous_fm.append(fm_list[i])\n",
    "        \n",
    "    \n",
    "gTrends_df['Fire Index']=np.array(previous_fire)\n",
    "gTrends_df['FM Index']=np.array(previous_fm)\n",
    "gTrends_df=gTrends_df[['date','Fire Index','FM Index']]\n",
    "gTrends_df=gTrends_df.fillna(gTrends_df.mean())"
   ]
  },
  {
   "cell_type": "code",
   "execution_count": 37,
   "metadata": {},
   "outputs": [],
   "source": [
    "#get weather information (include average rain/temp on days prior to a market day)\n",
    "temp_df=pd.read_csv('Los_Angeles_Weather_trimmed.csv',names=[\"Market Date\",\"Temperature\",\"Wind\",\"Rain\"]).sort_values(by='Market Date')\n",
    "previous_rain=[0]+list(temp_df['Rain'])[:-1]\n",
    "temp_df['Previous Rain']=previous_rain\n",
    "previous_temp=[20]+list(temp_df['Temperature'])[:-1]\n",
    "temp_df['Previous Temperature']=previous_temp\n",
    "temp_df['Market Date']=pd.to_datetime(temp_df['Market Date'])"
   ]
  },
  {
   "cell_type": "code",
   "execution_count": 38,
   "metadata": {},
   "outputs": [],
   "source": [
    "#join datasets\n",
    "feature_df=temp_df.set_index('Market Date').join(parking_data.set_index('Datetime'),how='left',lsuffix='Market Date',rsuffix='Datetime').reset_index().dropna()\n",
    "feature_df=feature_df.set_index('Market Date').join(gTrends_df.set_index('date'),how='left').reset_index()"
   ]
  },
  {
   "cell_type": "code",
   "execution_count": 39,
   "metadata": {},
   "outputs": [],
   "source": [
    "#apply the necessary transformations to non-normally distributed variables\n",
    "feature_df['Fire Index']=feature_df['Fire Index'].apply(lambda x: np.log(x+1))\n",
    "feature_df['Rain']=feature_df['Rain'].apply(lambda x: np.log(x+1))\n",
    "feature_df['Previous Rain']=feature_df['Previous Rain'].apply(lambda x: np.log(x+1))"
   ]
  },
  {
   "cell_type": "code",
   "execution_count": 40,
   "metadata": {},
   "outputs": [],
   "source": [
    "#get the holiday information now\n",
    "\n",
    "def get_holidays(holiday_name,threeDay,holiday_name_observed=[]):\n",
    "    hol_dates=[]\n",
    "    for year in range(2013,2021):\n",
    "        holiday_list=holidays.UnitedStates(years = year)\n",
    "        for holiday in holiday_list.keys():\n",
    "            if holiday_list[holiday]==holiday_name or holiday_list[holiday]==holiday_name_observed:\n",
    "                hol_dates.append(holiday)\n",
    "                if holiday.weekday()==0 and threeDay==1:\n",
    "                    hol_dates.append(holiday-timedelta(days=1))\n",
    "                    hol_dates.append(holiday-timedelta(days=2))\n",
    "                elif holiday.weekday()==4 and threeDay==1:\n",
    "                    hol_dates.append(holiday+timedelta(days=1))\n",
    "                    hol_dates.append(holiday+timedelta(days=2))\n",
    "    return hol_dates\n",
    "\n",
    "#These are the labels for all holidays that will be studied\n",
    "NY=[\"New Year's Day\"]\n",
    "MLK=[\"Martin Luther King, Jr. Day\"]\n",
    "WASH=[\"Washington's Birthday\"]\n",
    "LABOR=[\"Labor Day\"]\n",
    "MEMORIAL=['Memorial Day']\n",
    "J4=[\"Independence Day\",\"Independence Day (Observed)\"]\n",
    "VET=['Veterans Day','Veterans Day (Observed)']\n",
    "THANK=['Thanksgiving']"
   ]
  },
  {
   "cell_type": "code",
   "execution_count": 41,
   "metadata": {},
   "outputs": [],
   "source": [
    "#list of holiday dates 2013-now\n",
    "\n",
    "thanksgivings=get_holidays(THANK[0],1)+[x - timedelta(days=1) for x in get_holidays(THANK[0],1)]+[x + timedelta(days=3) for x in get_holidays(THANK[0],1)]+[x + timedelta(days=2) for x in get_holidays(THANK[0],1)]\n",
    "NYE_dates=get_holidays(NY[0],1)+[x - timedelta(days=1) for x in get_holidays(NY[0],1)]\n",
    "veterans_days=get_holidays(VET[0],1,VET[1])\n",
    "mlk_days=get_holidays(MLK[0],1)\n",
    "memorial_days=get_holidays(MEMORIAL[0],1)\n",
    "wash_days=get_holidays(WASH[0],1)\n",
    "labor_days=get_holidays(LABOR[0],1)\n",
    "july_fourths=get_holidays(J4[0],1,J4[1])"
   ]
  },
  {
   "cell_type": "code",
   "execution_count": 42,
   "metadata": {},
   "outputs": [],
   "source": [
    "#function \n",
    "#inputs x: date we want to check if falls on holiday\n",
    "#        dates: #the holiday dates we want to check for\n",
    "\n",
    "#return True: x is a holiday\n",
    "            #False x does not fall on holiday\n",
    "\n",
    "\n",
    "def holiday_check(x,dates):\n",
    "    if x.date() in dates:\n",
    "        return 1\n",
    "    else:\n",
    "        return 0"
   ]
  },
  {
   "cell_type": "code",
   "execution_count": 43,
   "metadata": {},
   "outputs": [],
   "source": [
    "#one hot encoded features for market month\n",
    "\n",
    "months_cols=['Is_Jan','Is_Feb','Is_March','Is_April','Is_May','Is_June','Is_July','Is_August','Is_September','Is_October','Is_November','Is_December']\n",
    "month_nums=range(1,13)\n",
    "\n",
    "for i,month in enumerate(months_cols):\n",
    "    feature_df[month]=feature_df['Market Date'].apply(lambda x: 1 if x.month==month_nums[i] else 0)\n",
    "    "
   ]
  },
  {
   "cell_type": "code",
   "execution_count": 44,
   "metadata": {},
   "outputs": [],
   "source": [
    "import math\n",
    "#calculate a seasonal vector that ranges from (0,1) and is the cosine of the number of days\n",
    "feature_df['Seasons']=feature_df['Market Date'].apply(lambda x: math.cos(((x.month-1)*30+x.day)/366*math.pi/2))"
   ]
  },
  {
   "cell_type": "code",
   "execution_count": 45,
   "metadata": {},
   "outputs": [],
   "source": [
    "#actually contruct the holiday features now, which encoded as binary vectors \n",
    "\n",
    "feature_df['Thanksgiving']=feature_df['Market Date'].apply(lambda x: holiday_check(x,thanksgivings))\n",
    "feature_df['MLK']=feature_df['Market Date'].apply(lambda x: holiday_check(x,mlk_days))\n",
    "feature_df['Labor Day']=feature_df['Market Date'].apply(lambda x: holiday_check(x,labor_days))\n",
    "feature_df['Wash Day']=feature_df['Market Date'].apply(lambda x: holiday_check(x,wash_days))\n",
    "feature_df['Memorial Day']=feature_df['Market Date'].apply(lambda x: holiday_check(x,memorial_days))\n",
    "feature_df['Veterans Day']=feature_df['Market Date'].apply(lambda x: holiday_check(x,veterans_days))\n",
    "\n",
    "#checks if a market occurs during the week before Christmas\n",
    "#input x: date to check\n",
    "#output: 1 if x falls on/a week before Christmas\n",
    "    #    0 if the above condition is not met\n",
    "def christmas_check(x):\n",
    "    if x.month==12:\n",
    "        if x.day>=19 and x.day<=25:\n",
    "            return 1\n",
    "        return 0\n",
    "    return 0\n",
    "            \n",
    "feature_df['Christmas']=feature_df['Market Date'].apply(lambda x: christmas_check(x))\n",
    "feature_df['July Fourth']=feature_df['Market Date'].apply(lambda x: holiday_check(x,july_fourths))\n",
    "superbowls=[datetime.date(2011,2,6),datetime.date(2012,2,5),datetime.date(2013,2,3),\n",
    "            datetime.date(2014,2,2),datetime.date(2015,2,1),datetime.date(2016,2,7),\n",
    "                datetime.date(2017,2,5),datetime.date(2018,2,4),datetime.date(2019,2,3)]\n",
    "superbowls=superbowls+[x-timedelta(days=1) for x in superbowls]\n",
    "feature_df['Superbowls']=feature_df['Market Date'].apply(lambda x: holiday_check(x,superbowls))\n",
    "feature_df['NYE']=feature_df['Market Date'].apply(lambda x: holiday_check(x,NYE_dates))\n",
    "feature_df['Time Offset']=feature_df['Market Date'].apply(lambda x: ((x.year-2014)*365+(x.month-1)*30+x.day))\n",
    "\n",
    "temp_bins=[[0,15],[15,20],[20,25],[25,30],[30,100]]\n",
    "\n",
    "for i,item in enumerate(temp_bins):\n",
    "    feature_df[\"Temp\"+str(i)]=feature_df['Temperature'].apply(lambda x: 1 if x>=item[0] and x<=item[0] else 0)"
   ]
  },
  {
   "cell_type": "code",
   "execution_count": 46,
   "metadata": {},
   "outputs": [],
   "source": [
    "#save file\n",
    "\n",
    "feature_df.to_pickle('feature_dataFrame.pkl')"
   ]
  }
 ],
 "metadata": {
  "kernelspec": {
   "display_name": "Python 3",
   "language": "python",
   "name": "python3"
  },
  "language_info": {
   "codemirror_mode": {
    "name": "ipython",
    "version": 3
   },
   "file_extension": ".py",
   "mimetype": "text/x-python",
   "name": "python",
   "nbconvert_exporter": "python",
   "pygments_lexer": "ipython3",
   "version": "3.7.4"
  }
 },
 "nbformat": 4,
 "nbformat_minor": 2
}
